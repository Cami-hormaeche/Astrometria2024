{
 "cells": [
  {
   "cell_type": "markdown",
   "metadata": {},
   "source": [
    "Primero queremos leer y graficar los datos pertenecientes a la funcion luminosidad de galaxias obtenida por Blanton et al. (2001)."
   ]
  },
  {
   "cell_type": "markdown",
   "metadata": {},
   "source": [
    "Quiero explorar el espacio de parametros"
   ]
  },
  {
   "cell_type": "code",
   "execution_count": 481,
   "metadata": {},
   "outputs": [],
   "source": [
    "import numpy as np\n",
    "import matplotlib.pyplot as plt\n",
    "import pandas as pd\n"
   ]
  },
  {
   "cell_type": "code",
   "execution_count": 482,
   "metadata": {},
   "outputs": [
    {
     "data": {
      "text/html": [
       "<div>\n",
       "<style scoped>\n",
       "    .dataframe tbody tr th:only-of-type {\n",
       "        vertical-align: middle;\n",
       "    }\n",
       "\n",
       "    .dataframe tbody tr th {\n",
       "        vertical-align: top;\n",
       "    }\n",
       "\n",
       "    .dataframe thead th {\n",
       "        text-align: right;\n",
       "    }\n",
       "</style>\n",
       "<table border=\"1\" class=\"dataframe\">\n",
       "  <thead>\n",
       "    <tr style=\"text-align: right;\">\n",
       "      <th></th>\n",
       "      <th>MAG</th>\n",
       "      <th>PHI</th>\n",
       "      <th>error_inf</th>\n",
       "      <th>error_sup</th>\n",
       "    </tr>\n",
       "  </thead>\n",
       "  <tbody>\n",
       "    <tr>\n",
       "      <th>0</th>\n",
       "      <td>-23.183</td>\n",
       "      <td>0.000003</td>\n",
       "      <td>0.000002</td>\n",
       "      <td>0.000003</td>\n",
       "    </tr>\n",
       "    <tr>\n",
       "      <th>1</th>\n",
       "      <td>-23.020</td>\n",
       "      <td>0.000005</td>\n",
       "      <td>0.000003</td>\n",
       "      <td>0.000005</td>\n",
       "    </tr>\n",
       "    <tr>\n",
       "      <th>2</th>\n",
       "      <td>-22.870</td>\n",
       "      <td>0.000017</td>\n",
       "      <td>0.000005</td>\n",
       "      <td>0.000009</td>\n",
       "    </tr>\n",
       "    <tr>\n",
       "      <th>3</th>\n",
       "      <td>-22.698</td>\n",
       "      <td>0.000035</td>\n",
       "      <td>0.000009</td>\n",
       "      <td>0.000010</td>\n",
       "    </tr>\n",
       "    <tr>\n",
       "      <th>4</th>\n",
       "      <td>-22.565</td>\n",
       "      <td>0.000082</td>\n",
       "      <td>0.000024</td>\n",
       "      <td>0.000023</td>\n",
       "    </tr>\n",
       "    <tr>\n",
       "      <th>5</th>\n",
       "      <td>-22.411</td>\n",
       "      <td>0.000122</td>\n",
       "      <td>0.000017</td>\n",
       "      <td>0.000020</td>\n",
       "    </tr>\n",
       "    <tr>\n",
       "      <th>6</th>\n",
       "      <td>-22.248</td>\n",
       "      <td>0.000241</td>\n",
       "      <td>0.000034</td>\n",
       "      <td>0.000040</td>\n",
       "    </tr>\n",
       "    <tr>\n",
       "      <th>7</th>\n",
       "      <td>-22.096</td>\n",
       "      <td>0.000328</td>\n",
       "      <td>0.000038</td>\n",
       "      <td>0.000043</td>\n",
       "    </tr>\n",
       "    <tr>\n",
       "      <th>8</th>\n",
       "      <td>-21.942</td>\n",
       "      <td>0.000504</td>\n",
       "      <td>0.000059</td>\n",
       "      <td>0.000084</td>\n",
       "    </tr>\n",
       "    <tr>\n",
       "      <th>9</th>\n",
       "      <td>-21.793</td>\n",
       "      <td>0.000933</td>\n",
       "      <td>0.000133</td>\n",
       "      <td>0.000091</td>\n",
       "    </tr>\n",
       "    <tr>\n",
       "      <th>10</th>\n",
       "      <td>-21.638</td>\n",
       "      <td>0.001269</td>\n",
       "      <td>0.000147</td>\n",
       "      <td>0.000212</td>\n",
       "    </tr>\n",
       "    <tr>\n",
       "      <th>11</th>\n",
       "      <td>-21.484</td>\n",
       "      <td>0.001725</td>\n",
       "      <td>0.000201</td>\n",
       "      <td>0.000257</td>\n",
       "    </tr>\n",
       "    <tr>\n",
       "      <th>12</th>\n",
       "      <td>-21.311</td>\n",
       "      <td>0.002573</td>\n",
       "      <td>0.000368</td>\n",
       "      <td>0.000250</td>\n",
       "    </tr>\n",
       "    <tr>\n",
       "      <th>13</th>\n",
       "      <td>-21.176</td>\n",
       "      <td>0.003191</td>\n",
       "      <td>0.000282</td>\n",
       "      <td>0.000419</td>\n",
       "    </tr>\n",
       "    <tr>\n",
       "      <th>14</th>\n",
       "      <td>-21.011</td>\n",
       "      <td>0.003834</td>\n",
       "      <td>0.000339</td>\n",
       "      <td>0.000372</td>\n",
       "    </tr>\n",
       "    <tr>\n",
       "      <th>15</th>\n",
       "      <td>-20.857</td>\n",
       "      <td>0.005056</td>\n",
       "      <td>0.000724</td>\n",
       "      <td>0.000490</td>\n",
       "    </tr>\n",
       "    <tr>\n",
       "      <th>16</th>\n",
       "      <td>-20.703</td>\n",
       "      <td>0.005539</td>\n",
       "      <td>0.000642</td>\n",
       "      <td>0.000538</td>\n",
       "    </tr>\n",
       "    <tr>\n",
       "      <th>17</th>\n",
       "      <td>-20.560</td>\n",
       "      <td>0.006456</td>\n",
       "      <td>0.000750</td>\n",
       "      <td>0.000626</td>\n",
       "    </tr>\n",
       "    <tr>\n",
       "      <th>18</th>\n",
       "      <td>-20.412</td>\n",
       "      <td>0.007296</td>\n",
       "      <td>0.000847</td>\n",
       "      <td>0.000708</td>\n",
       "    </tr>\n",
       "    <tr>\n",
       "      <th>19</th>\n",
       "      <td>-20.241</td>\n",
       "      <td>0.008502</td>\n",
       "      <td>0.000753</td>\n",
       "      <td>0.000825</td>\n",
       "    </tr>\n",
       "    <tr>\n",
       "      <th>20</th>\n",
       "      <td>-20.098</td>\n",
       "      <td>0.009608</td>\n",
       "      <td>0.001116</td>\n",
       "      <td>0.001096</td>\n",
       "    </tr>\n",
       "    <tr>\n",
       "      <th>21</th>\n",
       "      <td>-19.934</td>\n",
       "      <td>0.009897</td>\n",
       "      <td>0.001673</td>\n",
       "      <td>0.000960</td>\n",
       "    </tr>\n",
       "    <tr>\n",
       "      <th>22</th>\n",
       "      <td>-19.780</td>\n",
       "      <td>0.010844</td>\n",
       "      <td>0.001260</td>\n",
       "      <td>0.001424</td>\n",
       "    </tr>\n",
       "    <tr>\n",
       "      <th>23</th>\n",
       "      <td>-19.634</td>\n",
       "      <td>0.012255</td>\n",
       "      <td>0.001753</td>\n",
       "      <td>0.001186</td>\n",
       "    </tr>\n",
       "    <tr>\n",
       "      <th>24</th>\n",
       "      <td>-19.478</td>\n",
       "      <td>0.013019</td>\n",
       "      <td>0.001688</td>\n",
       "      <td>0.001263</td>\n",
       "    </tr>\n",
       "    <tr>\n",
       "      <th>25</th>\n",
       "      <td>-19.308</td>\n",
       "      <td>0.013409</td>\n",
       "      <td>0.001557</td>\n",
       "      <td>0.002237</td>\n",
       "    </tr>\n",
       "    <tr>\n",
       "      <th>26</th>\n",
       "      <td>-19.165</td>\n",
       "      <td>0.015628</td>\n",
       "      <td>0.002234</td>\n",
       "      <td>0.001518</td>\n",
       "    </tr>\n",
       "    <tr>\n",
       "      <th>27</th>\n",
       "      <td>-19.006</td>\n",
       "      <td>0.014676</td>\n",
       "      <td>0.001706</td>\n",
       "      <td>0.002448</td>\n",
       "    </tr>\n",
       "    <tr>\n",
       "      <th>28</th>\n",
       "      <td>-18.863</td>\n",
       "      <td>0.015118</td>\n",
       "      <td>0.001337</td>\n",
       "      <td>0.002522</td>\n",
       "    </tr>\n",
       "    <tr>\n",
       "      <th>29</th>\n",
       "      <td>-18.698</td>\n",
       "      <td>0.018170</td>\n",
       "      <td>0.002598</td>\n",
       "      <td>0.002387</td>\n",
       "    </tr>\n",
       "    <tr>\n",
       "      <th>30</th>\n",
       "      <td>-18.539</td>\n",
       "      <td>0.016542</td>\n",
       "      <td>0.001919</td>\n",
       "      <td>0.002173</td>\n",
       "    </tr>\n",
       "    <tr>\n",
       "      <th>31</th>\n",
       "      <td>-18.407</td>\n",
       "      <td>0.016024</td>\n",
       "      <td>0.002708</td>\n",
       "      <td>0.002675</td>\n",
       "    </tr>\n",
       "    <tr>\n",
       "      <th>32</th>\n",
       "      <td>-18.243</td>\n",
       "      <td>0.018673</td>\n",
       "      <td>0.002166</td>\n",
       "      <td>0.003115</td>\n",
       "    </tr>\n",
       "    <tr>\n",
       "      <th>33</th>\n",
       "      <td>-18.089</td>\n",
       "      <td>0.020778</td>\n",
       "      <td>0.003243</td>\n",
       "      <td>0.004615</td>\n",
       "    </tr>\n",
       "    <tr>\n",
       "      <th>34</th>\n",
       "      <td>-17.924</td>\n",
       "      <td>0.016981</td>\n",
       "      <td>0.002428</td>\n",
       "      <td>0.003453</td>\n",
       "    </tr>\n",
       "    <tr>\n",
       "      <th>35</th>\n",
       "      <td>-17.765</td>\n",
       "      <td>0.018604</td>\n",
       "      <td>0.003144</td>\n",
       "      <td>0.003106</td>\n",
       "    </tr>\n",
       "    <tr>\n",
       "      <th>36</th>\n",
       "      <td>-17.628</td>\n",
       "      <td>0.019768</td>\n",
       "      <td>0.004324</td>\n",
       "      <td>0.003298</td>\n",
       "    </tr>\n",
       "    <tr>\n",
       "      <th>37</th>\n",
       "      <td>-17.466</td>\n",
       "      <td>0.025271</td>\n",
       "      <td>0.004271</td>\n",
       "      <td>0.005141</td>\n",
       "    </tr>\n",
       "    <tr>\n",
       "      <th>38</th>\n",
       "      <td>-17.320</td>\n",
       "      <td>0.027690</td>\n",
       "      <td>0.004680</td>\n",
       "      <td>0.005636</td>\n",
       "    </tr>\n",
       "    <tr>\n",
       "      <th>39</th>\n",
       "      <td>-17.166</td>\n",
       "      <td>0.030341</td>\n",
       "      <td>0.005894</td>\n",
       "      <td>0.007315</td>\n",
       "    </tr>\n",
       "    <tr>\n",
       "      <th>40</th>\n",
       "      <td>-17.002</td>\n",
       "      <td>0.021581</td>\n",
       "      <td>0.005730</td>\n",
       "      <td>0.003600</td>\n",
       "    </tr>\n",
       "    <tr>\n",
       "      <th>41</th>\n",
       "      <td>-16.848</td>\n",
       "      <td>0.026753</td>\n",
       "      <td>0.008281</td>\n",
       "      <td>0.005441</td>\n",
       "    </tr>\n",
       "    <tr>\n",
       "      <th>42</th>\n",
       "      <td>-16.700</td>\n",
       "      <td>0.027560</td>\n",
       "      <td>0.009107</td>\n",
       "      <td>0.008817</td>\n",
       "    </tr>\n",
       "    <tr>\n",
       "      <th>43</th>\n",
       "      <td>-16.557</td>\n",
       "      <td>0.036340</td>\n",
       "      <td>0.010459</td>\n",
       "      <td>0.013135</td>\n",
       "    </tr>\n",
       "    <tr>\n",
       "      <th>44</th>\n",
       "      <td>-16.402</td>\n",
       "      <td>0.067273</td>\n",
       "      <td>0.017854</td>\n",
       "      <td>0.030158</td>\n",
       "    </tr>\n",
       "    <tr>\n",
       "      <th>45</th>\n",
       "      <td>-16.232</td>\n",
       "      <td>0.016250</td>\n",
       "      <td>0.010379</td>\n",
       "      <td>0.026045</td>\n",
       "    </tr>\n",
       "    <tr>\n",
       "      <th>46</th>\n",
       "      <td>-16.081</td>\n",
       "      <td>0.057516</td>\n",
       "      <td>0.027429</td>\n",
       "      <td>0.059439</td>\n",
       "    </tr>\n",
       "  </tbody>\n",
       "</table>\n",
       "</div>"
      ],
      "text/plain": [
       "       MAG       PHI  error_inf  error_sup\n",
       "0  -23.183  0.000003   0.000002   0.000003\n",
       "1  -23.020  0.000005   0.000003   0.000005\n",
       "2  -22.870  0.000017   0.000005   0.000009\n",
       "3  -22.698  0.000035   0.000009   0.000010\n",
       "4  -22.565  0.000082   0.000024   0.000023\n",
       "5  -22.411  0.000122   0.000017   0.000020\n",
       "6  -22.248  0.000241   0.000034   0.000040\n",
       "7  -22.096  0.000328   0.000038   0.000043\n",
       "8  -21.942  0.000504   0.000059   0.000084\n",
       "9  -21.793  0.000933   0.000133   0.000091\n",
       "10 -21.638  0.001269   0.000147   0.000212\n",
       "11 -21.484  0.001725   0.000201   0.000257\n",
       "12 -21.311  0.002573   0.000368   0.000250\n",
       "13 -21.176  0.003191   0.000282   0.000419\n",
       "14 -21.011  0.003834   0.000339   0.000372\n",
       "15 -20.857  0.005056   0.000724   0.000490\n",
       "16 -20.703  0.005539   0.000642   0.000538\n",
       "17 -20.560  0.006456   0.000750   0.000626\n",
       "18 -20.412  0.007296   0.000847   0.000708\n",
       "19 -20.241  0.008502   0.000753   0.000825\n",
       "20 -20.098  0.009608   0.001116   0.001096\n",
       "21 -19.934  0.009897   0.001673   0.000960\n",
       "22 -19.780  0.010844   0.001260   0.001424\n",
       "23 -19.634  0.012255   0.001753   0.001186\n",
       "24 -19.478  0.013019   0.001688   0.001263\n",
       "25 -19.308  0.013409   0.001557   0.002237\n",
       "26 -19.165  0.015628   0.002234   0.001518\n",
       "27 -19.006  0.014676   0.001706   0.002448\n",
       "28 -18.863  0.015118   0.001337   0.002522\n",
       "29 -18.698  0.018170   0.002598   0.002387\n",
       "30 -18.539  0.016542   0.001919   0.002173\n",
       "31 -18.407  0.016024   0.002708   0.002675\n",
       "32 -18.243  0.018673   0.002166   0.003115\n",
       "33 -18.089  0.020778   0.003243   0.004615\n",
       "34 -17.924  0.016981   0.002428   0.003453\n",
       "35 -17.765  0.018604   0.003144   0.003106\n",
       "36 -17.628  0.019768   0.004324   0.003298\n",
       "37 -17.466  0.025271   0.004271   0.005141\n",
       "38 -17.320  0.027690   0.004680   0.005636\n",
       "39 -17.166  0.030341   0.005894   0.007315\n",
       "40 -17.002  0.021581   0.005730   0.003600\n",
       "41 -16.848  0.026753   0.008281   0.005441\n",
       "42 -16.700  0.027560   0.009107   0.008817\n",
       "43 -16.557  0.036340   0.010459   0.013135\n",
       "44 -16.402  0.067273   0.017854   0.030158\n",
       "45 -16.232  0.016250   0.010379   0.026045\n",
       "46 -16.081  0.057516   0.027429   0.059439"
      ]
     },
     "execution_count": 482,
     "metadata": {},
     "output_type": "execute_result"
    }
   ],
   "source": [
    "datos=pd.read_csv('/home/camila/Documentos/practico1_astrometria/repositorio/practico4/datos_Blanton2001.csv')\n",
    "datos"
   ]
  },
  {
   "cell_type": "code",
   "execution_count": 483,
   "metadata": {},
   "outputs": [
    {
     "data": {
      "image/png": "[encoded data removed]",
      "text/plain": [
       "<Figure size 640x480 with 1 Axes>"
      ]
     },
     "metadata": {},
     "output_type": "display_data"
    }
   ],
   "source": [
    "x=datos['MAG']\n",
    "y=datos['PHI']\n",
    "error_sup= datos['error_sup']\n",
    "error_inf= datos['error_inf']\n",
    "#Los datos de error estan invertidos \n",
    "\n",
    "plt.errorbar(x=x,y=y,yerr=[error_inf,error_sup],fmt='ob',ms = 5,  capsize=3)\n",
    "plt.yscale('log')\n",
    "plt.show()"
   ]
  },
  {
   "cell_type": "markdown",
   "metadata": {},
   "source": [
    "Funcion de likehood $L=\\prod \\frac{1}{\\sigma*sqrt(2*pi)}\\exp(\\frac{(y-y_(model))²}{2*\\sigma²})$ \n",
    "\n",
    "Funcion  $\\log(L)=A-\\sum (y-y_(model))²/2*\\sigma²$\n",
    "\n",
    "Funcion probabilidad posterior $log(p(\\phi|d,m))=\\log(L)+\\log(P(\\phi,m))-log(p(d|m))$"
   ]
  },
  {
   "cell_type": "markdown",
   "metadata": {},
   "source": [
    "Vamos a modelar la funcion schechter primero para "
   ]
  },
  {
   "cell_type": "code",
   "execution_count": 484,
   "metadata": {},
   "outputs": [],
   "source": [
    "#Defino la funcion schechter\n",
    "def schechter(M,phi0,a0,M0):\n",
    "    a=(0.4)*np.log(10)*phi0\n",
    "    b=10**((-0.4)*(M-M0)*(a0+1))\n",
    "    c=np.exp(-10**(-0.4*(M-M0)))\n",
    "    fun=(a*b*c)\n",
    "    return(fun)"
   ]
  },
  {
   "cell_type": "code",
   "execution_count": 485,
   "metadata": {},
   "outputs": [
    {
     "name": "stderr",
     "output_type": "stream",
     "text": [
      "<>:6: SyntaxWarning: invalid escape sequence '\\p'\n",
      "<>:6: SyntaxWarning: invalid escape sequence '\\p'\n",
      "/tmp/ipykernel_15767/1133145756.py:6: SyntaxWarning: invalid escape sequence '\\p'\n",
      "  plt.ylabel('$\\phi(M_r)$')\n"
     ]
    },
    {
     "data": {
      "image/png": "[encoded data removed]",
      "text/plain": [
       "<Figure size 640x480 with 1 Axes>"
      ]
     },
     "metadata": {},
     "output_type": "display_data"
    }
   ],
   "source": [
    "M1=np.linspace(-23.5,-16,100)\n",
    "plt.plot(M1,schechter(M=M1,phi0=1.46e-2,a0=-1.20,M0=-20.83))\n",
    "plt.errorbar(x=x,y=y,yerr=[error_inf,error_sup],fmt='ob',ms = 5,  capsize=3,alpha=0.5)\n",
    "plt.yscale('log')\n",
    "plt.xlabel('$M_r$')\n",
    "plt.ylabel('$\\phi(M_r)$')\n",
    "plt.show()"
   ]
  },
  {
   "cell_type": "markdown",
   "metadata": {},
   "source": [
    "#Ahora definimos la funcion likehood, prior y probabilidad posterios"
   ]
  },
  {
   "cell_type": "code",
   "execution_count": 486,
   "metadata": {},
   "outputs": [],
   "source": [
    "sigma= np.abs((datos['error_sup'] + datos['error_inf'])/2) "
   ]
  },
  {
   "cell_type": "code",
   "execution_count": 487,
   "metadata": {},
   "outputs": [],
   "source": [
    "def log_likelihood(y, M, phi0, a0, M0, sigma):\n",
    "    # Calculamos el modelo de Schechter para cada valor de M\n",
    "    y_model = schechter(M, phi0, a0, M0)\n",
    "    \n",
    "    # Calculamos la log-verosimilitud\n",
    "    logL = -0.5 * np.sum(((y - y_model)**2) / 2*sigma**2)  # La constante A está incluida en la normalización\n",
    "    return logL"
   ]
  },
  {
   "cell_type": "code",
   "execution_count": 488,
   "metadata": {},
   "outputs": [
    {
     "name": "stdout",
     "output_type": "stream",
     "text": [
      "Log-verosimilitud: -5.324139185214394e-07\n"
     ]
    }
   ],
   "source": [
    "logL = log_likelihood(y=datos['PHI'], M=datos['MAG'], phi0=1.46e-2, a0=-1.20, M0=-20.83, sigma=sigma)\n",
    "print(f\"Log-verosimilitud: {logL}\")"
   ]
  },
  {
   "cell_type": "code",
   "execution_count": 489,
   "metadata": {},
   "outputs": [
    {
     "data": {
      "text/plain": [
       "-0.008735834163755259"
      ]
     },
     "execution_count": 489,
     "metadata": {},
     "output_type": "execute_result"
    }
   ],
   "source": [
    "log_likelihood(y=datos['PHI'], M=datos['MAG'], phi0=0.03, a0=-1.9, M0=-22, sigma=sigma) # Prueba con otros valores"
   ]
  },
  {
   "cell_type": "markdown",
   "metadata": {},
   "source": [
    "A medida que los parámetros utilizados se acercan más a los valores predichos por el modelo, el likelihood debe ir aumentando pues se está maximizando.\n",
    "Para la probabilidad a priori de los parámetros se toma una distribución plana, asumiendo que no se conoce nada de los parámetros. Entonces, esta función devuelve un valor constante si se encuentra dentro de la región que se va a muestrear, mientras que es nula fuera de esa región."
   ]
  },
  {
   "cell_type": "code",
   "execution_count": 490,
   "metadata": {},
   "outputs": [],
   "source": [
    "def prior(phi0, a0, M0,phi0lim, M0lim, alim):\n",
    "    \n",
    "    if (phi0lim[0]<=phi0) & (phi0<=phi0lim[1]) & (M0lim[0]<=M0) & (M0<=M0lim[1]) & (alim[0]<=a0) & (a0<=alim[1]):\n",
    "        return 1.0  # Valor constante para la distribución plana\n",
    "    else:\n",
    "        return 0.0  # Cero fuera del rango"
   ]
  },
  {
   "cell_type": "code",
   "execution_count": 491,
   "metadata": {},
   "outputs": [],
   "source": [
    "phi0lim=[0.008,0.035]\n",
    "M0lim=[-21.20,-20]\n",
    "alim=[-1.66,-0.66]"
   ]
  },
  {
   "cell_type": "code",
   "execution_count": 492,
   "metadata": {},
   "outputs": [
    {
     "name": "stdout",
     "output_type": "stream",
     "text": [
      "Prior: 1.0\n"
     ]
    }
   ],
   "source": [
    "phi0 = 1.46e-2\n",
    "a0 = -1.20\n",
    "M0 = -20.83\n",
    "\n",
    "prior_value = prior(phi0, a0,M0,phi0lim, M0lim, alim)\n",
    "print(f\"Prior: {prior_value}\")\n"
   ]
  },
  {
   "cell_type": "code",
   "execution_count": 493,
   "metadata": {},
   "outputs": [
    {
     "name": "stdout",
     "output_type": "stream",
     "text": [
      "Prior: 0.0\n"
     ]
    }
   ],
   "source": [
    "#prueba prior\n",
    "phi0 = 1.46e-2\n",
    "a0 = -1.20\n",
    "M0 = -22\n",
    "\n",
    "prior_value = prior(phi0, a0,M0,phi0lim, M0lim, alim)\n",
    "print(f\"Prior: {prior_value}\")"
   ]
  },
  {
   "cell_type": "markdown",
   "metadata": {},
   "source": [
    "Funcion probabilidad posterior $log(p(\\phi|d,m))=\\log(L)+\\log(P(\\phi,m))-log(p(d|m))$"
   ]
  },
  {
   "cell_type": "code",
   "execution_count": 494,
   "metadata": {},
   "outputs": [],
   "source": [
    "#A continuacion utilizamos el teorema de Bayes para definir la probabilidad posterior\n",
    "def prob_post(y, M, phi0, a0, M0, sigma,phi0lim, M0lim, alim):\n",
    "    log_pos=log_likelihood(y, M, phi0, a0, M0, sigma)+np.log(prior(phi0, a0, M0,phi0lim, M0lim, alim))\n",
    "    return(log_pos)"
   ]
  },
  {
   "cell_type": "code",
   "execution_count": 495,
   "metadata": {},
   "outputs": [
    {
     "data": {
      "text/plain": [
       "-5.324139185214394e-07"
      ]
     },
     "execution_count": 495,
     "metadata": {},
     "output_type": "execute_result"
    }
   ],
   "source": [
    "# Llamada a la función para calcular la probabilidad posterior\n",
    "prob_post(y=datos['PHI'], M=datos['MAG'], phi0=1.46e-2, a0=-1.20, M0=-20.83, sigma=sigma,phi0lim=phi0lim, M0lim=M0lim, alim=alim)\n",
    "\n"
   ]
  },
  {
   "cell_type": "code",
   "execution_count": 496,
   "metadata": {},
   "outputs": [
    {
     "name": "stderr",
     "output_type": "stream",
     "text": [
      "/tmp/ipykernel_15767/1046074793.py:3: RuntimeWarning: divide by zero encountered in log\n",
      "  log_pos=log_likelihood(y, M, phi0, a0, M0, sigma)+np.log(prior(phi0, a0, M0,phi0lim, M0lim, alim))\n"
     ]
    },
    {
     "data": {
      "text/plain": [
       "-inf"
      ]
     },
     "execution_count": 496,
     "metadata": {},
     "output_type": "execute_result"
    }
   ],
   "source": [
    "#La llamamos con otros valores \n",
    "prob_post(y=datos['PHI'], M=datos['MAG'], phi0=2.9E-2, a0=-1.2, M0=-22, sigma=sigma,phi0lim=phi0lim, M0lim=M0lim, alim=alim)\n"
   ]
  },
  {
   "cell_type": "code",
   "execution_count": 497,
   "metadata": {},
   "outputs": [
    {
     "data": {
      "image/png": "[encoded data removed]",
      "text/plain": [
       "<Figure size 1500x500 with 3 Axes>"
      ]
     },
     "metadata": {},
     "output_type": "display_data"
    }
   ],
   "source": [
    "#Se esta maximizando por lo que variando los parametros podemos observar si la funcion esta funcionando bien\n",
    "# Funciones de verosimilitud, prior y probabilidad posterior ya definidas\n",
    "# Definiciones de los parámetros de los límites\n",
    "phi0lim = [0.008, 0.035]\n",
    "M0lim = [-21.20, -20]\n",
    "alim = [-1.66, -0.66]\n",
    "\n",
    "# Valores de ejemplo para phi0, a0 y M0\n",
    "phi0_values = np.linspace(phi0lim[0], phi0lim[1], 100)\n",
    "a0_values = np.linspace(alim[0], alim[1], 100)\n",
    "M0_values = np.linspace(M0lim[0], M0lim[1], 100)\n",
    "\n",
    "# Inicializar un contenedor para las probabilidades posteriores\n",
    "posterior_phi0 = np.zeros_like(phi0_values)\n",
    "posterior_a0 = np.zeros_like(a0_values)\n",
    "posterior_M0 = np.zeros_like(M0_values)\n",
    "\n",
    "# Evaluar la probabilidad posterior para cada valor de phi0\n",
    "for i, phi0 in enumerate(phi0_values):\n",
    "    posterior_phi0[i] = prob_post(y=datos['PHI'], M=datos['MAG'], phi0=phi0, a0=-1.20, M0=-20.83, sigma=sigma, phi0lim=phi0lim, M0lim=M0lim, alim=alim)\n",
    "\n",
    "# Evaluar la probabilidad posterior para cada valor de a0\n",
    "for i, a0 in enumerate(a0_values):\n",
    "    posterior_a0[i] = prob_post(y=datos['PHI'], M=datos['MAG'], phi0=1.46e-2, a0=a0, M0=-20.83, sigma=sigma, phi0lim=phi0lim, M0lim=M0lim, alim=alim)\n",
    "\n",
    "# Evaluar la probabilidad posterior para cada valor de M0\n",
    "for i, M0 in enumerate(M0_values):\n",
    "    posterior_M0[i] = prob_post(y=datos['PHI'], M=datos['MAG'], phi0=1.46e-2, a0=-1.20, M0=M0, sigma=sigma, phi0lim=phi0lim, M0lim=M0lim, alim=alim)\n",
    "\n",
    "# Graficar los resultados\n",
    "plt.figure(figsize=(15, 5))\n",
    "\n",
    "# Gráfico para phi0\n",
    "plt.subplot(1, 3, 1)\n",
    "plt.plot(phi0_values, posterior_phi0)\n",
    "plt.title(r'Posterior vs $\\phi_0$')\n",
    "plt.xlabel(r'$\\phi_0$')\n",
    "plt.ylabel('Probabilidad Posterior')\n",
    "plt.grid()\n",
    "\n",
    "# Gráfico para a0\n",
    "plt.subplot(1, 3, 2)\n",
    "plt.plot(a0_values, posterior_a0)\n",
    "plt.title(r'Posterior vs $a_0$')\n",
    "plt.xlabel(r'$a_0$')\n",
    "plt.ylabel('Probabilidad Posterior')\n",
    "plt.grid()\n",
    "\n",
    "# Gráfico para M0\n",
    "plt.subplot(1, 3, 3)\n",
    "plt.plot(M0_values, posterior_M0)\n",
    "plt.title(r'Posterior vs $M_0$')\n",
    "plt.xlabel(r'$M_0$')\n",
    "plt.ylabel('Probabilidad Posterior')\n",
    "plt.grid()\n",
    "\n",
    "plt.tight_layout()\n",
    "plt.show()\n"
   ]
  },
  {
   "cell_type": "markdown",
   "metadata": {},
   "source": [
    "Metropolis-Hasting:\n",
    "Utilizamos las funciones antes definidas para generar el algoritmo de la cadena, donde busca un punto con una cierta probabilidad, salta a otro punto de manera aleatorea y luego evalurara la funcion likehood en este punto, el cual comparara con el punto anterior, quiero que el valor de mayor a uno, lo que indicaria que el valor es mejor, entonces lo tomo y a partir de ese punto siga recorriendo el espacio de parametros.\n"
   ]
  },
  {
   "cell_type": "code",
   "execution_count": 508,
   "metadata": {},
   "outputs": [
    {
     "name": "stdout",
     "output_type": "stream",
     "text": [
      "-1.2183522227919497 -20.216460007001604 0.023166931630165356\n"
     ]
    },
    {
     "name": "stderr",
     "output_type": "stream",
     "text": [
      "/tmp/ipykernel_15767/1046074793.py:3: RuntimeWarning: divide by zero encountered in log\n",
      "  log_pos=log_likelihood(y, M, phi0, a0, M0, sigma)+np.log(prior(phi0, a0, M0,phi0lim, M0lim, alim))\n"
     ]
    },
    {
     "data": {
      "text/plain": [
       "(-1.4383267474206745, -20.96500227725414, 0.01700575992250382)"
      ]
     },
     "execution_count": 508,
     "metadata": {},
     "output_type": "execute_result"
    }
   ],
   "source": [
    "#Debo definir la funcion de metropolis hasting\n",
    "a0=np.random.uniform(alim[0],alim[1])\n",
    "phi0=np.random.uniform(phi0lim[0],phi0lim[1])\n",
    "M0=np.random.uniform(M0lim[0],M0lim[1])\n",
    "y=datos['PHI']\n",
    "M=datos['MAG']\n",
    "#Normalizo el a0,M0,phi0 para darle el mismo paso\n",
    "#a_norm=(a0-alim[0])/(alim[1]-alim[0])\n",
    "#M0_norm=(M0-M0lim[0])/(M0lim[1]-M0lim[0])\n",
    "#phi0_norm=(phi0-phi0lim[0])/(phi0lim[1]-phi0lim[0])\n",
    "#step=1e-2\n",
    "#Ahora defino los nuevos parametros iniciales para que la funcion barra el espacio de parametros, que salte al siguiente valor\n",
    "#a_nuevo=a0+np.random.uniform(-1,1)*step*(alim[1]-alim[0])\n",
    "#M_nuevo=M0+np.random.uniform(-1,1)*step*(M0lim[1]-M0lim[0])\n",
    "#phi0_nuevo=phi0+np.random.uniform(-1,1)*step*(phi0lim[1]-phi0lim[0])\n",
    "\n",
    "def metropolis_hasting(y=y, M=M, phi0=phi0, a0=a0, M0=M0, sigma=sigma,phi0lim=phi0lim, M0lim=M0lim, alim=alim,N_iter=10000):\n",
    "    p0= prob_post(y=y, M=M, phi0=phi0, a0=a0, M0=M0,sigma=sigma,phi0lim=phi0lim, M0lim=M0lim, alim=alim)\n",
    "    posteriores=[]\n",
    "    \n",
    "    for i in range(2000):\n",
    "        p0= prob_post(y=y, M=M, phi0=phi0, a0=a0, M0=M0,sigma=sigma,phi0lim=phi0lim, M0lim=M0lim, alim=alim)\n",
    "        step=1e-1\n",
    "        #print(i)\n",
    "        #Ahora defino los nuevos parametros iniciales para que la funcion barra el espacio de parametros, que salte al siguiente valor\n",
    "        a_nuevo=a0+np.random.uniform(-1,1)*step*(alim[1]-alim[0])\n",
    "        M_nuevo=M0+np.random.uniform(-1,1)*step*(M0lim[1]-M0lim[0])\n",
    "        phi0_nuevo=phi0+np.random.uniform(-1,1)*step*(phi0lim[1]-phi0lim[0])\n",
    "        p_nueva=prob_post(y=y, M=M, phi0=phi0_nuevo, a0=a_nuevo, M0=M_nuevo,sigma=sigma,phi0lim=phi0lim, M0lim=M0lim, alim=alim)\n",
    "        if p_nueva>p0:\n",
    "            a0=a_nuevo\n",
    "            M0=M_nuevo\n",
    "            phi0=phi0_nuevo\n",
    "            p0=p_nueva\n",
    "        else:\n",
    "            u=p_nueva-p0\n",
    "            r=np.log(np.random.rand())\n",
    "            if r<u:\n",
    "                a0=a_nuevo\n",
    "                M0=M_nuevo\n",
    "                phi0=phi0_nuevo\n",
    "                p0=p_nueva\n",
    "            #Si no se cumple esta condicion, no quiero que haga nada, me quedo en donde estoy\n",
    "    return(a0,M0,phi0)\n",
    "print(a0,M0,phi0)\n",
    "metropolis_hasting(y=datos['PHI'], M=datos['MAG'], phi0=phi0, a0=a0, M0=M0, sigma=sigma,phi0lim=phi0lim, M0lim=M0lim, alim=alim)\n",
    "\n"
   ]
  },
  {
   "cell_type": "code",
   "execution_count": 499,
   "metadata": {},
   "outputs": [
    {
     "data": {
      "text/plain": [
       "-6.611805976591129e-05"
      ]
     },
     "execution_count": 499,
     "metadata": {},
     "output_type": "execute_result"
    }
   ],
   "source": [
    "prob_post(y=y, M=M, phi0=phi0, a0=a0, M0=M0,sigma=sigma,phi0lim=phi0lim, M0lim=M0lim, alim=alim)\n"
   ]
  },
  {
   "cell_type": "code",
   "execution_count": null,
   "metadata": {},
   "outputs": [],
   "source": []
  }
 ],
 "metadata": {
  "kernelspec": {
   "display_name": "astrometria",
   "language": "python",
   "name": "python3"
  },
  "language_info": {
   "codemirror_mode": {
    "name": "ipython",
    "version": 3
   },
   "file_extension": ".py",
   "mimetype": "text/x-python",
   "name": "python",
   "nbconvert_exporter": "python",
   "pygments_lexer": "ipython3",
   "version": "3.12.7"
  }
 },
 "nbformat": 4,
 "nbformat_minor": 2
}
