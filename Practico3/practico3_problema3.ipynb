{
 "cells": [
  {
   "cell_type": "markdown",
   "metadata": {},
   "source": [
    "Se busca estudiar una distribución de tipos morfológicos y determinar si es consistente con una distribución uniforme.Se puede utilizar una prueba estadística que compare la distribución observada con una distribución uniforme teórica."
   ]
  },
  {
   "cell_type": "code",
   "execution_count": 2,
   "metadata": {},
   "outputs": [],
   "source": [
    "#importamos paquetes\n",
    "import numpy as np\n",
    "import pandas as pd\n",
    "import matplotlib.pyplot as plt\n",
    "import scipy.stats as sp"
   ]
  },
  {
   "cell_type": "code",
   "execution_count": 3,
   "metadata": {},
   "outputs": [
    {
     "data": {
      "text/html": [
       "<div>\n",
       "<style scoped>\n",
       "    .dataframe tbody tr th:only-of-type {\n",
       "        vertical-align: middle;\n",
       "    }\n",
       "\n",
       "    .dataframe tbody tr th {\n",
       "        vertical-align: top;\n",
       "    }\n",
       "\n",
       "    .dataframe thead th {\n",
       "        text-align: right;\n",
       "    }\n",
       "</style>\n",
       "<table border=\"1\" class=\"dataframe\">\n",
       "  <thead>\n",
       "    <tr style=\"text-align: right;\">\n",
       "      <th></th>\n",
       "      <th>specObjID</th>\n",
       "      <th>spiral</th>\n",
       "      <th>elliptical</th>\n",
       "      <th>petroMag_u</th>\n",
       "      <th>petroMag_r</th>\n",
       "      <th>petroMag_g</th>\n",
       "      <th>z</th>\n",
       "    </tr>\n",
       "  </thead>\n",
       "  <tbody>\n",
       "    <tr>\n",
       "      <th>0</th>\n",
       "      <td>326558284548958208</td>\n",
       "      <td>1</td>\n",
       "      <td>0</td>\n",
       "      <td>19.10832</td>\n",
       "      <td>17.06106</td>\n",
       "      <td>17.73906</td>\n",
       "      <td>0.109850</td>\n",
       "    </tr>\n",
       "    <tr>\n",
       "      <th>1</th>\n",
       "      <td>326569004787329024</td>\n",
       "      <td>0</td>\n",
       "      <td>1</td>\n",
       "      <td>20.86176</td>\n",
       "      <td>17.51276</td>\n",
       "      <td>19.08985</td>\n",
       "      <td>0.248169</td>\n",
       "    </tr>\n",
       "    <tr>\n",
       "      <th>2</th>\n",
       "      <td>327682805351868416</td>\n",
       "      <td>1</td>\n",
       "      <td>0</td>\n",
       "      <td>19.61019</td>\n",
       "      <td>17.17898</td>\n",
       "      <td>18.05770</td>\n",
       "      <td>0.118198</td>\n",
       "    </tr>\n",
       "    <tr>\n",
       "      <th>3</th>\n",
       "      <td>327700122660005888</td>\n",
       "      <td>1</td>\n",
       "      <td>0</td>\n",
       "      <td>18.37072</td>\n",
       "      <td>15.98199</td>\n",
       "      <td>16.99851</td>\n",
       "      <td>0.047356</td>\n",
       "    </tr>\n",
       "    <tr>\n",
       "      <th>4</th>\n",
       "      <td>327705620218144768</td>\n",
       "      <td>1</td>\n",
       "      <td>0</td>\n",
       "      <td>19.24683</td>\n",
       "      <td>16.56079</td>\n",
       "      <td>17.41775</td>\n",
       "      <td>0.070256</td>\n",
       "    </tr>\n",
       "    <tr>\n",
       "      <th>...</th>\n",
       "      <td>...</td>\n",
       "      <td>...</td>\n",
       "      <td>...</td>\n",
       "      <td>...</td>\n",
       "      <td>...</td>\n",
       "      <td>...</td>\n",
       "      <td>...</td>\n",
       "    </tr>\n",
       "    <tr>\n",
       "      <th>252410</th>\n",
       "      <td>2446690238848854016</td>\n",
       "      <td>1</td>\n",
       "      <td>0</td>\n",
       "      <td>19.59210</td>\n",
       "      <td>17.53860</td>\n",
       "      <td>18.47113</td>\n",
       "      <td>0.173262</td>\n",
       "    </tr>\n",
       "    <tr>\n",
       "      <th>252411</th>\n",
       "      <td>2446690513726760960</td>\n",
       "      <td>1</td>\n",
       "      <td>0</td>\n",
       "      <td>20.18686</td>\n",
       "      <td>16.94943</td>\n",
       "      <td>17.95427</td>\n",
       "      <td>0.088267</td>\n",
       "    </tr>\n",
       "    <tr>\n",
       "      <th>252412</th>\n",
       "      <td>2446718826151176192</td>\n",
       "      <td>1</td>\n",
       "      <td>0</td>\n",
       "      <td>18.86731</td>\n",
       "      <td>17.60067</td>\n",
       "      <td>18.10199</td>\n",
       "      <td>0.041243</td>\n",
       "    </tr>\n",
       "    <tr>\n",
       "      <th>252413</th>\n",
       "      <td>3328214351491393536</td>\n",
       "      <td>0</td>\n",
       "      <td>1</td>\n",
       "      <td>19.12848</td>\n",
       "      <td>16.94564</td>\n",
       "      <td>17.70156</td>\n",
       "      <td>0.067408</td>\n",
       "    </tr>\n",
       "    <tr>\n",
       "      <th>252414</th>\n",
       "      <td>3328312208026265600</td>\n",
       "      <td>1</td>\n",
       "      <td>0</td>\n",
       "      <td>20.07927</td>\n",
       "      <td>17.62809</td>\n",
       "      <td>18.62906</td>\n",
       "      <td>0.142951</td>\n",
       "    </tr>\n",
       "  </tbody>\n",
       "</table>\n",
       "<p>252415 rows × 7 columns</p>\n",
       "</div>"
      ],
      "text/plain": [
       "                  specObjID  spiral  elliptical  petroMag_u  petroMag_r  \\\n",
       "0        326558284548958208       1           0    19.10832    17.06106   \n",
       "1        326569004787329024       0           1    20.86176    17.51276   \n",
       "2        327682805351868416       1           0    19.61019    17.17898   \n",
       "3        327700122660005888       1           0    18.37072    15.98199   \n",
       "4        327705620218144768       1           0    19.24683    16.56079   \n",
       "...                     ...     ...         ...         ...         ...   \n",
       "252410  2446690238848854016       1           0    19.59210    17.53860   \n",
       "252411  2446690513726760960       1           0    20.18686    16.94943   \n",
       "252412  2446718826151176192       1           0    18.86731    17.60067   \n",
       "252413  3328214351491393536       0           1    19.12848    16.94564   \n",
       "252414  3328312208026265600       1           0    20.07927    17.62809   \n",
       "\n",
       "        petroMag_g         z  \n",
       "0         17.73906  0.109850  \n",
       "1         19.08985  0.248169  \n",
       "2         18.05770  0.118198  \n",
       "3         16.99851  0.047356  \n",
       "4         17.41775  0.070256  \n",
       "...            ...       ...  \n",
       "252410    18.47113  0.173262  \n",
       "252411    17.95427  0.088267  \n",
       "252412    18.10199  0.041243  \n",
       "252413    17.70156  0.067408  \n",
       "252414    18.62906  0.142951  \n",
       "\n",
       "[252415 rows x 7 columns]"
      ]
     },
     "execution_count": 3,
     "metadata": {},
     "output_type": "execute_result"
    }
   ],
   "source": [
    "#Cargamos los datos descargados de CastJob, con los tipos morfologicos de galaxias (elipticas o espirales)\n",
    "datos = pd.read_csv('Galaxias_color_2.csv')\n",
    "datos"
   ]
  },
  {
   "cell_type": "markdown",
   "metadata": {},
   "source": [
    "Observamos que la tabla de datos tiene dos columnas clave que contienen los tipos morfologicos, spiral, elliptical.\n",
    "Contamos cuantos tipos son espirales y cuantos tipos son morfologicos.\n",
    "Luego, podemos realizar una prueba de $\\chi²$ para comparar la distribución observada con la distribución esperada."
   ]
  },
  {
   "cell_type": "code",
   "execution_count": 4,
   "metadata": {},
   "outputs": [],
   "source": [
    "#contamos, de la lista de galaxias, cuantas son espirales y cuantas son elipticas.\n",
    "# Contar cuántas galaxias son espirales y cuántas son elípticas\n",
    "num_espirales = datos['spiral'].sum()\n",
    "num_elipticas = datos['elliptical'].sum()"
   ]
  },
  {
   "cell_type": "code",
   "execution_count": 5,
   "metadata": {},
   "outputs": [],
   "source": [
    "#Definimos el chi-cuadrado\n",
    "def chi2(o,E):\n",
    "    test=np.sum((o-E)**2/E)\n",
    "    return(test)"
   ]
  },
  {
   "cell_type": "code",
   "execution_count": 6,
   "metadata": {},
   "outputs": [],
   "source": [
    "#Creamos la lista con frecuencias observadas que contiene el numero de elipticas y el numero de espirales\n",
    "frecuencias_observadas = np.array([num_espirales, num_elipticas])"
   ]
  },
  {
   "cell_type": "code",
   "execution_count": 7,
   "metadata": {},
   "outputs": [],
   "source": [
    "# Asumimos una distribución uniforme: es decir, esperamos la misma cantidad de espirales y elípticas\n",
    "total_galaxias = len(datos) #devuelve el número total de galaxias en el conjunto de datos.\n",
    "frecuencia_esperada_uniforme = total_galaxias / 2  # Para una distribución uniforme, asumimos que los tipos morfológicos están igualmente distribuidos. Mitad son elipticas y mitad son espirales.\n",
    "frecuencias_esperadas = np.array([frecuencia_esperada_uniforme, frecuencia_esperada_uniforme]) #Aquí estamos creando un array que contiene las frecuencias esperadas para cada tipo de galaxia."
   ]
  },
  {
   "cell_type": "code",
   "execution_count": 8,
   "metadata": {},
   "outputs": [],
   "source": [
    "frecuencias_observadas = np.array([len(datos[datos['elliptical'] == 1]), len(datos[datos['spiral'] == 1])])\n"
   ]
  },
  {
   "cell_type": "code",
   "execution_count": 9,
   "metadata": {},
   "outputs": [
    {
     "name": "stdout",
     "output_type": "stream",
     "text": [
      "El valor de chi-cuadrado es: 64944.48121149694\n"
     ]
    }
   ],
   "source": [
    "#Con la funcion chi-cuadrado antes definida, calculamos el estadistico de prueba.\n",
    "stat_chi2 = chi2(frecuencias_observadas, frecuencias_esperadas)\n",
    "print('El valor de chi-cuadrado es:', stat_chi2)"
   ]
  },
  {
   "cell_type": "code",
   "execution_count": 10,
   "metadata": {},
   "outputs": [
    {
     "name": "stdout",
     "output_type": "stream",
     "text": [
      "los grados de libertad son: 1\n",
      "El valor-p es: 0.0\n"
     ]
    }
   ],
   "source": [
    "#Calculamos el valor-p utilizando la distribucion de chi-cuadrado\n",
    "# Grados de libertad = número de categorías - 1\n",
    "grados_de_libertad = len(frecuencias_observadas) - 1\n",
    "\n",
    "valor_p = 1 - sp.chi2.cdf(stat_chi2, grados_de_libertad)\n",
    "print('los grados de libertad son:',grados_de_libertad)\n",
    "print('El valor-p es:',valor_p)\n",
    "\n"
   ]
  },
  {
   "cell_type": "code",
   "execution_count": 11,
   "metadata": {},
   "outputs": [
    {
     "name": "stdout",
     "output_type": "stream",
     "text": [
      "Rechazamos la hipótesis nula: La distribución no sigue una distribución uniforme.\n"
     ]
    }
   ],
   "source": [
    "#Realizamos una prueba de rechazo para ver si nuestra distribucion es consistente con la distribucion uniforme o no\n",
    "alpha = 0.05\n",
    "if valor_p < alpha:\n",
    "    print(\"Rechazamos la hipótesis nula: La distribución no sigue una distribución uniforme.\")\n",
    "else:\n",
    "    print(\"No podemos rechazar la hipótesis nula: La distribución sigue la distribución uniforme.\")\n"
   ]
  },
  {
   "cell_type": "code",
   "execution_count": 12,
   "metadata": {},
   "outputs": [
    {
     "data": {
      "image/png": "[encoded data removed]",
      "text/plain": [
       "<Figure size 640x480 with 1 Axes>"
      ]
     },
     "metadata": {},
     "output_type": "display_data"
    }
   ],
   "source": [
    "#Podemos graficar las frecuencias observadas y esperada, para visualizar las distribuciones.\n",
    "x = ['Elípticas', 'Espirales']\n",
    "y = [num_elipticas, num_espirales]\n",
    "\n",
    "plt.bar(x, y, color=['cyan', 'greenyellow'], alpha=0.7, label='Frecuencia Observada')\n",
    "\n",
    "# Gráfico de frecuencias esperadas\n",
    "frecuencias_esperadas = [frecuencia_esperada_uniforme] * 2\n",
    "plt.bar(x, frecuencias_esperadas, color=['cyan', 'greenyellow'], alpha=0.2, label='Frecuencia Uniforme Esperada', hatch='//')\n",
    "\n",
    "plt.xlabel('Tipos de Galaxias')\n",
    "plt.ylabel('Número de Galaxias')\n",
    "plt.title('Distribución de Tipos Morfológicos de Galaxias')\n",
    "plt.legend()\n",
    "plt.ylim(0, total_galaxias * 1.1)  # Un poco más alto que el total para una mejor visualización\n",
    "plt.savefig('Distribución de Tipos Morfológicos de Galaxias', dpi=300, bbox_inches='tight')\n",
    "plt.show()"
   ]
  }
 ],
 "metadata": {
  "kernelspec": {
   "display_name": "astrometria",
   "language": "python",
   "name": "python3"
  },
  "language_info": {
   "codemirror_mode": {
    "name": "ipython",
    "version": 3
   },
   "file_extension": ".py",
   "mimetype": "text/x-python",
   "name": "python",
   "nbconvert_exporter": "python",
   "pygments_lexer": "ipython3",
   "version": "3.12.7"
  }
 },
 "nbformat": 4,
 "nbformat_minor": 2
}
